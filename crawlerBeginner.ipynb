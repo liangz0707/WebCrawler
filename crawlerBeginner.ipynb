{
 "cells": [
  {
   "cell_type": "markdown",
   "metadata": {},
   "source": [
    "#网页爬虫、request、BS4学习"
   ]
  },
  {
   "cell_type": "markdown",
   "metadata": {},
   "source": [
    "#1.request使用"
   ]
  },
  {
   "cell_type": "markdown",
   "metadata": {},
   "source": [
    "##1.1获取get请求"
   ]
  },
  {
   "cell_type": "code",
   "execution_count": 8,
   "metadata": {
    "collapsed": false
   },
   "outputs": [],
   "source": [
    "import requests "
   ]
  },
  {
   "cell_type": "code",
   "execution_count": 10,
   "metadata": {
    "collapsed": false
   },
   "outputs": [
    {
     "data": {
      "text/plain": [
       "u'http://httpbin.org/get?q=%E6%9D%A8%E5%BD%A6%E6%98%9F'"
      ]
     },
     "execution_count": 10,
     "metadata": {},
     "output_type": "execute_result"
    }
   ],
   "source": [
    "#无参数get请求\n",
    "req = requests.get('http://httpbin.org/get')\n",
    "page = req.text #获取页面文本\n",
    "#带参数get请求\n",
    "params = {'q':'杨彦星'}\n",
    "req = requests.get('http://httpbin.org/get', params = params)\n",
    "req.url #得到请求的url"
   ]
  },
  {
   "cell_type": "markdown",
   "metadata": {},
   "source": [
    "##1.2获取post请求"
   ]
  },
  {
   "cell_type": "code",
   "execution_count": 15,
   "metadata": {
    "collapsed": false
   },
   "outputs": [],
   "source": [
    "#含参post请求\n",
    "params = {'a':'杨','b':'hello'}\n",
    "req = requests.post('http://httpbin.org/gpost',data = params)\n",
    "page = req.text #获取页面信息\n",
    "#提交json格式请求\n",
    "params = {'a':'杨','b':'hello'}\n",
    "import json\n",
    "req = requests.post('http://httpbin.org/post', data=json.dumps(params))"
   ]
  },
  {
   "cell_type": "markdown",
   "metadata": {},
   "source": [
    "##1.3提交文件"
   ]
  },
  {
   "cell_type": "code",
   "execution_count": 17,
   "metadata": {
    "collapsed": true
   },
   "outputs": [],
   "source": [
    "#提交文件 需要files参数\n",
    "url = 'http://httpbin.org/post'\n",
    "files = {'file': open('1.jpg', 'rb')}\n",
    "req = requests.post(url, files=files)"
   ]
  },
  {
   "cell_type": "markdown",
   "metadata": {},
   "source": [
    "##1.4使用header提交文件"
   ]
  },
  {
   "cell_type": "code",
   "execution_count": 25,
   "metadata": {
    "collapsed": false
   },
   "outputs": [],
   "source": [
    "import json\n",
    "url = 'https://www.baidu.com'\n",
    "params = {'some': 'data'}\n",
    "headers = {'content-type': 'application/json'}\n",
    "req = requests.post(url, data=json.dumps(params), headers=headers)"
   ]
  },
  {
   "cell_type": "markdown",
   "metadata": {},
   "source": [
    "##1.5响应操作"
   ]
  },
  {
   "cell_type": "code",
   "execution_count": 29,
   "metadata": {
    "collapsed": false
   },
   "outputs": [
    {
     "name": "stdout",
     "output_type": "stream",
     "text": [
      "{'content-length': '6120', 'content-encoding': 'gzip', 'set-cookie': 'BAIDUID=2E25687BD52023CEC43C01AD40FBE2E9:FG=1; expires=Sat, 17-Sep-16 10:16:13 GMT; max-age=31536000; path=/; domain=.baidu.com; version=1, __bsi=11822572061416239299_00_0_I_R_6_0303_C02F_N_I_I_0; expires=Fri, 18-Sep-15 10:16:18 GMT; domain=www.baidu.com; path=/', 'accept-ranges': 'bytes', 'expires': 'Sat, 19 Sep 2015 10:16:13 GMT', 'vary': 'Accept-Encoding,User-Agent', 'server': 'bfe/1.0.8.5', 'last-modified': 'Thu, 12 Mar 2015 07:47:33 GMT', 'connection': 'keep-alive', 'etag': '\"7e1b-5111298ba8f40\"', 'cache-control': 'max-age=86400', 'date': 'Fri, 18 Sep 2015 10:16:13 GMT', 'p3p': 'CP=\" OTI DSP COR IVA OUR IND COM \"', 'content-type': 'text/html'}\n",
      "text/html\n",
      "200\n"
     ]
    }
   ],
   "source": [
    "print req.headers\n",
    "print req.headers['Content-Type']\n",
    "print req.status_code"
   ]
  },
  {
   "cell_type": "markdown",
   "metadata": {},
   "source": [
    "#2.BeautifulSoup"
   ]
  },
  {
   "cell_type": "code",
   "execution_count": 34,
   "metadata": {
    "collapsed": false
   },
   "outputs": [],
   "source": [
    "#测试文档\n",
    "html_doc = \"\"\"\n",
    "<html><head><title>The Dormouse's story</title></head>\n",
    "<body>\n",
    "<p class=\"title\"><b>The Dormouse's story</b></p>\n",
    "\n",
    "<p class=\"story\">Once upon a time there were three little sisters; and their names were\n",
    "<a href=\"http://example.com/elsie\" class=\"sister\" id=\"link1\">Elsie</a>,\n",
    "<a href=\"http://example.com/lacie\" class=\"sister\" id=\"link2\">Lacie</a> and\n",
    "<a href=\"http://example.com/tillie\" class=\"sister\" id=\"link3\">Tillie</a>;\n",
    "and they lived at the bottom of a well.</p>\n",
    "\n",
    "<p class=\"story\">...</p>\n",
    "\"\"\""
   ]
  },
  {
   "cell_type": "code",
   "execution_count": 36,
   "metadata": {
    "collapsed": false
   },
   "outputs": [
    {
     "name": "stdout",
     "output_type": "stream",
     "text": [
      "<html>\n",
      " <head>\n",
      "  <title>\n",
      "   The Dormouse's story\n",
      "  </title>\n",
      " </head>\n",
      " <body>\n",
      "  <p class=\"title\">\n",
      "   <b>\n",
      "    The Dormouse's story\n",
      "   </b>\n",
      "  </p>\n",
      "  <p class=\"story\">\n",
      "   Once upon a time there were three little sisters; and their names were\n",
      "   <a class=\"sister\" href=\"http://example.com/elsie\" id=\"link1\">\n",
      "    Elsie\n",
      "   </a>\n",
      "   ,\n",
      "   <a class=\"sister\" href=\"http://example.com/lacie\" id=\"link2\">\n",
      "    Lacie\n",
      "   </a>\n",
      "   and\n",
      "   <a class=\"sister\" href=\"http://example.com/tillie\" id=\"link3\">\n",
      "    Tillie\n",
      "   </a>\n",
      "   ;\n",
      "and they lived at the bottom of a well.\n",
      "  </p>\n",
      "  <p class=\"story\">\n",
      "   ...\n",
      "  </p>\n",
      " </body>\n",
      "</html>\n"
     ]
    }
   ],
   "source": [
    "from bs4 import BeautifulSoup\n",
    "soup = BeautifulSoup(html_doc, 'html.parser')\n",
    "print(soup.prettify())"
   ]
  },
  {
   "cell_type": "code",
   "execution_count": 37,
   "metadata": {
    "collapsed": false
   },
   "outputs": [
    {
     "data": {
      "text/plain": [
       "[u'title']"
      ]
     },
     "execution_count": 37,
     "metadata": {},
     "output_type": "execute_result"
    }
   ],
   "source": [
    "#只能获取到第一个标签\n",
    "soup.title\n",
    "#获取标签的属性\n",
    "soup.title.name\n",
    "#获取父节点\n",
    "soup.title.parent.name\n",
    "#获取属性\n",
    "soup.p['class']"
   ]
  },
  {
   "cell_type": "code",
   "execution_count": 39,
   "metadata": {
    "collapsed": false
   },
   "outputs": [
    {
     "name": "stdout",
     "output_type": "stream",
     "text": [
      "http://example.com/elsie\n",
      "http://example.com/lacie\n",
      "http://example.com/tillie\n"
     ]
    }
   ],
   "source": [
    "#获取所有标签\n",
    "for link in soup.find_all('a'):\n",
    "    #获取标签下的属性\n",
    "    print(link.get('href'))"
   ]
  },
  {
   "cell_type": "markdown",
   "metadata": {},
   "source": [
    "#3.request和BeautifulSoup连接"
   ]
  },
  {
   "cell_type": "code",
   "execution_count": 40,
   "metadata": {
    "collapsed": true
   },
   "outputs": [],
   "source": [
    "req = requests.get(\"http://www.baidu.com\")\n",
    "page = req.text #获取界面文本\n",
    "soup = BeautifulSoup(page,\"html.parser\")"
   ]
  },
  {
   "cell_type": "markdown",
   "metadata": {},
   "source": [
    "#4.网页爬取"
   ]
  },
  {
   "cell_type": "code",
   "execution_count": null,
   "metadata": {
    "collapsed": true
   },
   "outputs": [],
   "source": [
    "#同上"
   ]
  },
  {
   "cell_type": "markdown",
   "metadata": {},
   "source": [
    "#5.图片爬取"
   ]
  },
  {
   "cell_type": "code",
   "execution_count": 53,
   "metadata": {
    "collapsed": false
   },
   "outputs": [],
   "source": [
    "import os\n",
    "def saveImage( imgUrl,imgName =\"default.jpg\" ):\n",
    "    response = requests.get(imgUrl, stream=True)\n",
    "    image = response.content\n",
    "    DstDir=os.getcwd() #保存在当前工作目录下\n",
    "    print(\"保存文件\"+imgName+\"\\n\")\n",
    "    try:\n",
    "        with open(os.path.join(os.getcwd(),'image',imgName) ,\"wb\") as jpg:\n",
    "            jpg.write( image)     \n",
    "            return\n",
    "    except IOError:\n",
    "        print(\"IO Error\\n\")\n",
    "        return\n",
    "    finally:\n",
    "        jpg.close        "
   ]
  },
  {
   "cell_type": "code",
   "execution_count": 55,
   "metadata": {
    "collapsed": false
   },
   "outputs": [],
   "source": [
    "#生成时间戳保证下载的内容文件名不重复\n",
    "import time\n",
    "def getT():\n",
    "    t = time.time()\n",
    "    s = str(int(t*100%10000000))\n",
    "    return s"
   ]
  },
  {
   "cell_type": "markdown",
   "metadata": {},
   "source": [
    "#6.爬取百度贴吧图片"
   ]
  },
  {
   "cell_type": "code",
   "execution_count": null,
   "metadata": {
    "collapsed": true
   },
   "outputs": [],
   "source": []
  }
 ],
 "metadata": {
  "kernelspec": {
   "display_name": "Python 2",
   "language": "python",
   "name": "python2"
  },
  "language_info": {
   "codemirror_mode": {
    "name": "ipython",
    "version": 2
   },
   "file_extension": ".py",
   "mimetype": "text/x-python",
   "name": "python",
   "nbconvert_exporter": "python",
   "pygments_lexer": "ipython2",
   "version": "2.7.10"
  }
 },
 "nbformat": 4,
 "nbformat_minor": 0
}
