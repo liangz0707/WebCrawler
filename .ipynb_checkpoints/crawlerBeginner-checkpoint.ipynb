{
 "cells": [
  {
   "cell_type": "markdown",
   "metadata": {},
   "source": [
    "#网页爬虫、request、BS4学习"
   ]
  },
  {
   "cell_type": "markdown",
   "metadata": {},
   "source": [
    "#1.request使用"
   ]
  },
  {
   "cell_type": "markdown",
   "metadata": {},
   "source": [
    "##1.1获取get请求"
   ]
  },
  {
   "cell_type": "code",
   "execution_count": 8,
   "metadata": {
    "collapsed": false
   },
   "outputs": [],
   "source": [
    "import requests "
   ]
  },
  {
   "cell_type": "code",
   "execution_count": 10,
   "metadata": {
    "collapsed": false
   },
   "outputs": [
    {
     "data": {
      "text/plain": [
       "u'http://httpbin.org/get?q=%E6%9D%A8%E5%BD%A6%E6%98%9F'"
      ]
     },
     "execution_count": 10,
     "metadata": {},
     "output_type": "execute_result"
    }
   ],
   "source": [
    "#无参数get请求\n",
    "req = requests.get('http://httpbin.org/get')\n",
    "page = req.text #获取页面文本\n",
    "#带参数get请求\n",
    "params = {'q':'杨彦星'}\n",
    "req = requests.get('http://httpbin.org/get', params = params)\n",
    "req.url #得到请求的url"
   ]
  },
  {
   "cell_type": "markdown",
   "metadata": {},
   "source": [
    "##1.2获取post请求"
   ]
  },
  {
   "cell_type": "code",
   "execution_count": 15,
   "metadata": {
    "collapsed": false
   },
   "outputs": [],
   "source": [
    "#含参post请求\n",
    "params = {'a':'杨','b':'hello'}\n",
    "req = requests.post('http://httpbin.org/gpost',data = params)\n",
    "page = req.text #获取页面信息\n",
    "#提交json格式请求\n",
    "params = {'a':'杨','b':'hello'}\n",
    "import json\n",
    "req = requests.post('http://httpbin.org/post', data=json.dumps(params))"
   ]
  },
  {
   "cell_type": "markdown",
   "metadata": {},
   "source": [
    "##1.3提交文件"
   ]
  },
  {
   "cell_type": "code",
   "execution_count": 17,
   "metadata": {
    "collapsed": true
   },
   "outputs": [],
   "source": [
    "#提交文件 需要files参数\n",
    "url = 'http://httpbin.org/post'\n",
    "files = {'file': open('1.jpg', 'rb')}\n",
    "req = requests.post(url, files=files)"
   ]
  },
  {
   "cell_type": "markdown",
   "metadata": {},
   "source": [
    "##1.4使用header提交文件"
   ]
  },
  {
   "cell_type": "code",
   "execution_count": 25,
   "metadata": {
    "collapsed": false
   },
   "outputs": [],
   "source": [
    "import json\n",
    "url = 'https://www.baidu.com'\n",
    "params = {'some': 'data'}\n",
    "headers = {'content-type': 'application/json'}\n",
    "req = requests.post(url, data=json.dumps(params), headers=headers)"
   ]
  },
  {
   "cell_type": "markdown",
   "metadata": {},
   "source": [
    "##1.5响应操作"
   ]
  },
  {
   "cell_type": "code",
   "execution_count": 29,
   "metadata": {
    "collapsed": false
   },
   "outputs": [
    {
     "name": "stdout",
     "output_type": "stream",
     "text": [
      "{'content-length': '6120', 'content-encoding': 'gzip', 'set-cookie': 'BAIDUID=2E25687BD52023CEC43C01AD40FBE2E9:FG=1; expires=Sat, 17-Sep-16 10:16:13 GMT; max-age=31536000; path=/; domain=.baidu.com; version=1, __bsi=11822572061416239299_00_0_I_R_6_0303_C02F_N_I_I_0; expires=Fri, 18-Sep-15 10:16:18 GMT; domain=www.baidu.com; path=/', 'accept-ranges': 'bytes', 'expires': 'Sat, 19 Sep 2015 10:16:13 GMT', 'vary': 'Accept-Encoding,User-Agent', 'server': 'bfe/1.0.8.5', 'last-modified': 'Thu, 12 Mar 2015 07:47:33 GMT', 'connection': 'keep-alive', 'etag': '\"7e1b-5111298ba8f40\"', 'cache-control': 'max-age=86400', 'date': 'Fri, 18 Sep 2015 10:16:13 GMT', 'p3p': 'CP=\" OTI DSP COR IVA OUR IND COM \"', 'content-type': 'text/html'}\n",
      "text/html\n",
      "200\n"
     ]
    }
   ],
   "source": [
    "print req.headers\n",
    "print req.headers['Content-Type']\n",
    "print req.status_code"
   ]
  },
  {
   "cell_type": "markdown",
   "metadata": {},
   "source": [
    "#2.BeautifulSoup"
   ]
  },
  {
   "cell_type": "code",
   "execution_count": 34,
   "metadata": {
    "collapsed": false
   },
   "outputs": [],
   "source": [
    "#测试文档\n",
    "html_doc = \"\"\"\n",
    "<html><head><title>The Dormouse's story</title></head>\n",
    "<body>\n",
    "<p class=\"title\"><b>The Dormouse's story</b></p>\n",
    "\n",
    "<p class=\"story\">Once upon a time there were three little sisters; and their names were\n",
    "<a href=\"http://example.com/elsie\" class=\"sister\" id=\"link1\">Elsie</a>,\n",
    "<a href=\"http://example.com/lacie\" class=\"sister\" id=\"link2\">Lacie</a> and\n",
    "<a href=\"http://example.com/tillie\" class=\"sister\" id=\"link3\">Tillie</a>;\n",
    "and they lived at the bottom of a well.</p>\n",
    "\n",
    "<p class=\"story\">...</p>\n",
    "\"\"\""
   ]
  },
  {
   "cell_type": "code",
   "execution_count": 36,
   "metadata": {
    "collapsed": false
   },
   "outputs": [
    {
     "name": "stdout",
     "output_type": "stream",
     "text": [
      "<html>\n",
      " <head>\n",
      "  <title>\n",
      "   The Dormouse's story\n",
      "  </title>\n",
      " </head>\n",
      " <body>\n",
      "  <p class=\"title\">\n",
      "   <b>\n",
      "    The Dormouse's story\n",
      "   </b>\n",
      "  </p>\n",
      "  <p class=\"story\">\n",
      "   Once upon a time there were three little sisters; and their names were\n",
      "   <a class=\"sister\" href=\"http://example.com/elsie\" id=\"link1\">\n",
      "    Elsie\n",
      "   </a>\n",
      "   ,\n",
      "   <a class=\"sister\" href=\"http://example.com/lacie\" id=\"link2\">\n",
      "    Lacie\n",
      "   </a>\n",
      "   and\n",
      "   <a class=\"sister\" href=\"http://example.com/tillie\" id=\"link3\">\n",
      "    Tillie\n",
      "   </a>\n",
      "   ;\n",
      "and they lived at the bottom of a well.\n",
      "  </p>\n",
      "  <p class=\"story\">\n",
      "   ...\n",
      "  </p>\n",
      " </body>\n",
      "</html>\n"
     ]
    }
   ],
   "source": [
    "from bs4 import BeautifulSoup\n",
    "soup = BeautifulSoup(html_doc, 'html.parser')\n",
    "print(soup.prettify())"
   ]
  },
  {
   "cell_type": "code",
   "execution_count": 74,
   "metadata": {
    "collapsed": false
   },
   "outputs": [
    {
     "name": "stdout",
     "output_type": "stream",
     "text": [
      "title\n",
      "meta\n"
     ]
    },
    {
     "data": {
      "text/plain": [
       "[u'switch_radios']"
      ]
     },
     "execution_count": 74,
     "metadata": {},
     "output_type": "execute_result"
    }
   ],
   "source": [
    "#只能获取到第一个标签\n",
    "soup.title\n",
    "#获取标签的属性\n",
    "print(soup.title.name)\n",
    "#获取父节点\n",
    "print(soup.title.parent.name)\n",
    "#获取属性\n",
    "soup.p['class']"
   ]
  },
  {
   "cell_type": "code",
   "execution_count": 39,
   "metadata": {
    "collapsed": false
   },
   "outputs": [
    {
     "name": "stdout",
     "output_type": "stream",
     "text": [
      "http://example.com/elsie\n",
      "http://example.com/lacie\n",
      "http://example.com/tillie\n"
     ]
    }
   ],
   "source": [
    "#获取所有标签\n",
    "for link in soup.find_all('a'):\n",
    "    #获取标签下的属性\n",
    "    print(link.get('href'))"
   ]
  },
  {
   "cell_type": "markdown",
   "metadata": {},
   "source": [
    "#3.request和BeautifulSoup连接"
   ]
  },
  {
   "cell_type": "code",
   "execution_count": 40,
   "metadata": {
    "collapsed": true
   },
   "outputs": [],
   "source": [
    "req = requests.get(\"http://www.baidu.com\")\n",
    "page = req.text #获取界面文本\n",
    "soup = BeautifulSoup(page,\"html.parser\")"
   ]
  },
  {
   "cell_type": "markdown",
   "metadata": {},
   "source": [
    "#4.网页爬取"
   ]
  },
  {
   "cell_type": "code",
   "execution_count": null,
   "metadata": {
    "collapsed": true
   },
   "outputs": [],
   "source": [
    "#同上"
   ]
  },
  {
   "cell_type": "markdown",
   "metadata": {},
   "source": [
    "#5.图片爬取"
   ]
  },
  {
   "cell_type": "code",
   "execution_count": 53,
   "metadata": {
    "collapsed": false
   },
   "outputs": [],
   "source": [
    "import os\n",
    "def saveImage( imgUrl,imgName =\"default.jpg\" ):\n",
    "    response = requests.get(imgUrl, stream=True)\n",
    "    image = response.content\n",
    "    DstDir=os.getcwd() #保存在当前工作目录下\n",
    "    print(\"保存文件\"+imgName+\"\\n\")\n",
    "    try:\n",
    "        with open(os.path.join(os.getcwd(),'image',imgName) ,\"wb\") as jpg:\n",
    "            jpg.write( image)     \n",
    "            return\n",
    "    except IOError:\n",
    "        print(\"IO Error\\n\")\n",
    "        return\n",
    "    finally:\n",
    "        jpg.close        "
   ]
  },
  {
   "cell_type": "code",
   "execution_count": 55,
   "metadata": {
    "collapsed": false
   },
   "outputs": [],
   "source": [
    "#生成时间戳保证下载的内容文件名不重复\n",
    "import time\n",
    "def getT():\n",
    "    t = time.time()\n",
    "    s = str(int(t*100%10000000))\n",
    "    return s"
   ]
  },
  {
   "cell_type": "markdown",
   "metadata": {},
   "source": [
    "#6.爬取百度贴吧图片"
   ]
  },
  {
   "cell_type": "code",
   "execution_count": 71,
   "metadata": {
    "collapsed": false
   },
   "outputs": [
    {
     "name": "stdout",
     "output_type": "stream",
     "text": [
      "[u'/p/4044242904', u'/p/4002886965', u'/p/4050390715', u'/p/4050462515', u'/p/4050388506', u'/p/4050410601', u'/p/4047071182', u'/p/4050235265', u'/p/3851625451', u'/p/3965913323', u'/p/4050069145', u'/p/4050004708', u'/p/2934603539', u'/p/4048025883', u'/p/4047343020', u'/p/4048827233', u'/p/2975146875', u'/p/4049609957', u'/p/4049705960', u'/p/4005719039', u'/p/4049277272', u'/p/3988123090', u'/p/4049714732', u'/p/4049673878', u'/p/4034745290', u'/p/3905628371', u'/p/3529970849', u'/p/4049617130', u'/p/4042141617', u'/p/4032430137', u'/p/3990011695', u'/p/4028432545', u'/p/4049475057', u'/p/3779402788', u'/p/3464733161', u'/p/3765086316', u'/p/4041878563', u'/p/3790062315', u'/p/4041905744', u'/p/3851154684', u'/p/3950107421', u'/p/4010988787', u'/p/3999351710', u'/p/4048684778', u'/p/4024788621', u'/p/3246566913', u'/p/4048723085', u'/p/4039897877', u'/p/4043501331', u'/p/3723810101', u'/p/4047865597', u'/p/3777230698', u'/p/4044498330', u'/p/4042362169', u'/p/4047557479', u'/p/4046681576', u'/p/4047742353', u'/p/4024153964', u'/p/4046357762', u'/p/4047630442', u'/p/2337091994', u'/p/4046749395', u'/p/4047166244', u'/p/4047503336', u'/p/4046624623', u'/p/4046129202', u'/p/4047215680', u'/p/4045892669', u'/p/4047083336', u'/p/4046888883', u'/p/4046837937', u'/p/4046932714', u'/p/4046607153', u'/p/3109406847', u'/p/4044777380', u'/p/3617362592', u'/p/4041057396', u'/p/4045730481', u'/p/4046429439', u'/p/3038997716', u'/p/4046267217', u'/p/4043606257', u'/p/4045879811', u'/p/4044982853', u'/p/2264721943', u'/p/4045792696', u'/p/4046024667', u'/p/4045857902', u'/p/4025714847', u'/p/3565855887', u'/p/3476808858', u'/p/4045699954', u'/p/4045496126', u'/p/4045623085', u'/p/4045399004', u'/p/2466896319', u'/p/3388424091', u'/p/4004334894', u'/p/4022878036', u'/p/4044066432']\n"
     ]
    }
   ],
   "source": [
    "#首先需要请求一个贴吧的主页\n",
    "main_url = \"http://tieba.baidu.com/f\"\n",
    "page_num = 2 #用与计算需要爬取的页数\n",
    "title_list= [] #保存所有要爬取帖子的链接\n",
    "for i in range(page_num): \n",
    "    params = {\"kw\" : \"python\" , \"pn\":i*50} #通过页码和关键字决定\n",
    "    req = requests.get(main_url,params=params) #得到一个页面\n",
    "    page = req.text #得到页面文本\n",
    "    soup = BeautifulSoup(page,'html.parser')\n",
    "    a_list = soup.find_all(\"a\")\n",
    "    hrefs = [t.get(\"href\") for t in a_list if t.get(\"class\") and t.get(\"class\")[0]==\"j_th_tit\"]\n",
    "    title_list.extend(hrefs)\n",
    "#print(title_list)"
   ]
  },
  {
   "cell_type": "code",
   "execution_count": 72,
   "metadata": {
    "collapsed": false
   },
   "outputs": [
    {
     "name": "stdout",
     "output_type": "stream",
     "text": [
      "http://somehost.com/../other/path\n",
      "[u'http://tieba.baidu.com/p/4044242904', u'http://tieba.baidu.com/p/4002886965', u'http://tieba.baidu.com/p/4050390715', u'http://tieba.baidu.com/p/4050462515', u'http://tieba.baidu.com/p/4050388506', u'http://tieba.baidu.com/p/4050410601', u'http://tieba.baidu.com/p/4047071182', u'http://tieba.baidu.com/p/4050235265', u'http://tieba.baidu.com/p/3851625451', u'http://tieba.baidu.com/p/3965913323', u'http://tieba.baidu.com/p/4050069145', u'http://tieba.baidu.com/p/4050004708', u'http://tieba.baidu.com/p/2934603539', u'http://tieba.baidu.com/p/4048025883', u'http://tieba.baidu.com/p/4047343020', u'http://tieba.baidu.com/p/4048827233', u'http://tieba.baidu.com/p/2975146875', u'http://tieba.baidu.com/p/4049609957', u'http://tieba.baidu.com/p/4049705960', u'http://tieba.baidu.com/p/4005719039', u'http://tieba.baidu.com/p/4049277272', u'http://tieba.baidu.com/p/3988123090', u'http://tieba.baidu.com/p/4049714732', u'http://tieba.baidu.com/p/4049673878', u'http://tieba.baidu.com/p/4034745290', u'http://tieba.baidu.com/p/3905628371', u'http://tieba.baidu.com/p/3529970849', u'http://tieba.baidu.com/p/4049617130', u'http://tieba.baidu.com/p/4042141617', u'http://tieba.baidu.com/p/4032430137', u'http://tieba.baidu.com/p/3990011695', u'http://tieba.baidu.com/p/4028432545', u'http://tieba.baidu.com/p/4049475057', u'http://tieba.baidu.com/p/3779402788', u'http://tieba.baidu.com/p/3464733161', u'http://tieba.baidu.com/p/3765086316', u'http://tieba.baidu.com/p/4041878563', u'http://tieba.baidu.com/p/3790062315', u'http://tieba.baidu.com/p/4041905744', u'http://tieba.baidu.com/p/3851154684', u'http://tieba.baidu.com/p/3950107421', u'http://tieba.baidu.com/p/4010988787', u'http://tieba.baidu.com/p/3999351710', u'http://tieba.baidu.com/p/4048684778', u'http://tieba.baidu.com/p/4024788621', u'http://tieba.baidu.com/p/3246566913', u'http://tieba.baidu.com/p/4048723085', u'http://tieba.baidu.com/p/4039897877', u'http://tieba.baidu.com/p/4043501331', u'http://tieba.baidu.com/p/3723810101', u'http://tieba.baidu.com/p/4047865597', u'http://tieba.baidu.com/p/3777230698', u'http://tieba.baidu.com/p/4044498330', u'http://tieba.baidu.com/p/4042362169', u'http://tieba.baidu.com/p/4047557479', u'http://tieba.baidu.com/p/4046681576', u'http://tieba.baidu.com/p/4047742353', u'http://tieba.baidu.com/p/4024153964', u'http://tieba.baidu.com/p/4046357762', u'http://tieba.baidu.com/p/4047630442', u'http://tieba.baidu.com/p/2337091994', u'http://tieba.baidu.com/p/4046749395', u'http://tieba.baidu.com/p/4047166244', u'http://tieba.baidu.com/p/4047503336', u'http://tieba.baidu.com/p/4046624623', u'http://tieba.baidu.com/p/4046129202', u'http://tieba.baidu.com/p/4047215680', u'http://tieba.baidu.com/p/4045892669', u'http://tieba.baidu.com/p/4047083336', u'http://tieba.baidu.com/p/4046888883', u'http://tieba.baidu.com/p/4046837937', u'http://tieba.baidu.com/p/4046932714', u'http://tieba.baidu.com/p/4046607153', u'http://tieba.baidu.com/p/3109406847', u'http://tieba.baidu.com/p/4044777380', u'http://tieba.baidu.com/p/3617362592', u'http://tieba.baidu.com/p/4041057396', u'http://tieba.baidu.com/p/4045730481', u'http://tieba.baidu.com/p/4046429439', u'http://tieba.baidu.com/p/3038997716', u'http://tieba.baidu.com/p/4046267217', u'http://tieba.baidu.com/p/4043606257', u'http://tieba.baidu.com/p/4045879811', u'http://tieba.baidu.com/p/4044982853', u'http://tieba.baidu.com/p/2264721943', u'http://tieba.baidu.com/p/4045792696', u'http://tieba.baidu.com/p/4046024667', u'http://tieba.baidu.com/p/4045857902', u'http://tieba.baidu.com/p/4025714847', u'http://tieba.baidu.com/p/3565855887', u'http://tieba.baidu.com/p/3476808858', u'http://tieba.baidu.com/p/4045699954', u'http://tieba.baidu.com/p/4045496126', u'http://tieba.baidu.com/p/4045623085', u'http://tieba.baidu.com/p/4045399004', u'http://tieba.baidu.com/p/2466896319', u'http://tieba.baidu.com/p/3388424091', u'http://tieba.baidu.com/p/4004334894', u'http://tieba.baidu.com/p/4022878036', u'http://tieba.baidu.com/p/4044066432']\n"
     ]
    }
   ],
   "source": [
    "#进行url拼装\n",
    "import urlparse\n",
    "#url拼接的例子\n",
    "print urlparse.urljoin('http://somehost.com/', '../other/path')\n",
    "#进行拼接\n",
    "title_list = [urlparse.urljoin( main_url , t) for t in title_list]\n",
    "#print title_list"
   ]
  },
  {
   "cell_type": "code",
   "execution_count": 80,
   "metadata": {
    "collapsed": false
   },
   "outputs": [
    {
     "name": "stdout",
     "output_type": "stream",
     "text": [
      "[u'http://imgsrc.baidu.com/forum/w%3D580/sign=7eb69da145166d223877159c76220945/3261a38b87d6277fb56228522e381f30e824fccc.jpg', u'http://imgsrc.baidu.com/forum/w%3D580/sign=65747f05982f07085f052a08d925b865/4e8da964034f78f01594f7b97f310a55b2191cb9.jpg']\n"
     ]
    }
   ],
   "source": [
    "title_list = title_list[0:5]#节省时间 ，暂时先用前几个帖子\n",
    "image_url_list = [] #保存所有获取到图片的url 供之后下载\n",
    "for t_url in title_list: #处理每一个主题页面\n",
    "    pn_num = 1 #先假设只有一页\n",
    "    i=0\n",
    "    while i< pn_num :\n",
    "        i = i+1\n",
    "        #设置页面参数\n",
    "        param = {\"see_lz\" : 1 ,\"pn\":i+1}  #只抓取楼主的内容\n",
    "        req = requests.get(t_url,param)\n",
    "        page = req.text\n",
    "        soup = BeautifulSoup(page,'html.parser')\n",
    "        im_list = soup.find_all(\"img\") #先获取图片元素\n",
    "        im_list = [t.get(\"src\") for t in im_list if t.get(\"class\") and t.get(\"class\")[0]==\"BDE_Image\"]\n",
    "        image_url_list.extend(im_list)\n",
    "        \n",
    "        #获取真实的页数\n",
    "        pnc = soup.find_all(\"span\")\n",
    "        pnc = [p.text for p in pnc if p.get(\"class\")and p.get(\"class\")[0] == \"red\"]\n",
    "        pn_num =  int(pnc[1]) \n",
    "        \n",
    "print(image_url_list)"
   ]
  },
  {
   "cell_type": "code",
   "execution_count": 82,
   "metadata": {
    "collapsed": false
   },
   "outputs": [
    {
     "name": "stdout",
     "output_type": "stream",
     "text": [
      "保存文件7663674.jpg\n",
      "\n",
      "保存文件7663702.jpg\n",
      "\n"
     ]
    }
   ],
   "source": [
    "#开始下载\n",
    "for img_url in image_url_list :\n",
    "    saveImage(img_url , getT()+\".jpg\")"
   ]
  },
  {
   "cell_type": "code",
   "execution_count": null,
   "metadata": {
    "collapsed": true
   },
   "outputs": [],
   "source": []
  }
 ],
 "metadata": {
  "kernelspec": {
   "display_name": "Python 2",
   "language": "python",
   "name": "python2"
  },
  "language_info": {
   "codemirror_mode": {
    "name": "ipython",
    "version": 2
   },
   "file_extension": ".py",
   "mimetype": "text/x-python",
   "name": "python",
   "nbconvert_exporter": "python",
   "pygments_lexer": "ipython2",
   "version": "2.7.10"
  }
 },
 "nbformat": 4,
 "nbformat_minor": 0
}
